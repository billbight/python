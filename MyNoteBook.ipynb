{
 "cells": [
  {
   "cell_type": "markdown",
   "id": "c6f2dde2",
   "metadata": {},
   "source": [
    "# ----Basic Numpy----"
   ]
  },
  {
   "cell_type": "code",
   "execution_count": 2,
   "id": "a80ce33f",
   "metadata": {},
   "outputs": [],
   "source": [
    "import numpy as np\n"
   ]
  },
  {
   "cell_type": "code",
   "execution_count": null,
   "id": "ef8fbd2b",
   "metadata": {},
   "outputs": [],
   "source": [
    "a = np.array([1,2,3,4]) ##Create array // dtype is used to indicate type in array\n",
    "a.dtype ##Check type in array\n",
    "a[x:y:z] ##Get value start x stop y step z"
   ]
  },
  {
   "cell_type": "code",
   "execution_count": null,
   "id": "b0644852",
   "metadata": {},
   "outputs": [],
   "source": [
    "a.shape ##Show length of all dimension\n",
    "a.ndim ##Show dimension"
   ]
  },
  {
   "cell_type": "code",
   "execution_count": 19,
   "id": "2de39138",
   "metadata": {},
   "outputs": [
    {
     "data": {
      "text/plain": [
       "array([[88, 93, 32],\n",
       "       [37, 39,  1],\n",
       "       [55, 17, 48]])"
      ]
     },
     "execution_count": 19,
     "metadata": {},
     "output_type": "execute_result"
    }
   ],
   "source": [
    "np.arange(4) ##Create array from 0 to 3\n",
    "np.random.randint(100,size=(3,3)) ##Random int 0-100 // with shape 3*3"
   ]
  },
  {
   "cell_type": "markdown",
   "id": "8b53a22b",
   "metadata": {},
   "source": [
    "# Stat"
   ]
  },
  {
   "cell_type": "code",
   "execution_count": null,
   "id": "42ea962d",
   "metadata": {},
   "outputs": [],
   "source": [
    "a.sum()\n",
    "a.mean()\n",
    "a.std()\n",
    "a.var()"
   ]
  },
  {
   "cell_type": "code",
   "execution_count": null,
   "id": "6f2de960",
   "metadata": {},
   "outputs": [],
   "source": [
    "a.sum(axis=0) ##Sum of each row\n",
    "a.sum(axis=1) ##Sum of each column"
   ]
  },
  {
   "cell_type": "markdown",
   "id": "8e340b54",
   "metadata": {},
   "source": [
    "# Boolean arrays"
   ]
  },
  {
   "cell_type": "code",
   "execution_count": 16,
   "id": "f3a9e4b1",
   "metadata": {},
   "outputs": [],
   "source": [
    "a=np.arange(4)"
   ]
  },
  {
   "cell_type": "code",
   "execution_count": 14,
   "id": "6ef67417",
   "metadata": {},
   "outputs": [
    {
     "data": {
      "text/plain": [
       "array([2, 3])"
      ]
     },
     "execution_count": 14,
     "metadata": {},
     "output_type": "execute_result"
    }
   ],
   "source": [
    "a[a >= 2]"
   ]
  },
  {
   "cell_type": "code",
   "execution_count": 20,
   "id": "24f71de3",
   "metadata": {},
   "outputs": [
    {
     "data": {
      "text/plain": [
       "array([1, 2, 3])"
      ]
     },
     "execution_count": 20,
     "metadata": {},
     "output_type": "execute_result"
    }
   ],
   "source": [
    "a[(a == 0) | (a ==1)] ## Or condition\n",
    "a[(a == 0) & (a ==1)] ## And condition\n",
    "a[~(a == 0)] ## Not condition"
   ]
  },
  {
   "cell_type": "code",
   "execution_count": 17,
   "id": "d9644e6e",
   "metadata": {},
   "outputs": [
    {
     "data": {
      "text/plain": [
       "array([0, 1, 2, 3])"
      ]
     },
     "execution_count": 17,
     "metadata": {},
     "output_type": "execute_result"
    }
   ],
   "source": [
    "a"
   ]
  },
  {
   "cell_type": "markdown",
   "id": "b1810bd3",
   "metadata": {},
   "source": [
    "# ----PANDAS----"
   ]
  },
  {
   "cell_type": "code",
   "execution_count": 1,
   "id": "d27e9462",
   "metadata": {},
   "outputs": [],
   "source": [
    "import pandas as pd"
   ]
  },
  {
   "cell_type": "code",
   "execution_count": 10,
   "id": "1ff59bf2",
   "metadata": {},
   "outputs": [
    {
     "data": {
      "text/plain": [
       "Canada    35\n",
       "USA       20\n",
       "Thai      53\n",
       "China     24\n",
       "Japan     90\n",
       "dtype: int64"
      ]
     },
     "execution_count": 10,
     "metadata": {},
     "output_type": "execute_result"
    }
   ],
   "source": [
    "pop = pd.Series([35,20,53,24,90], index = ['Canada','USA','Thai','China','Japan']) ##Different from list is that we can assign index\n",
    "pop"
   ]
  },
  {
   "cell_type": "code",
   "execution_count": 13,
   "id": "46aae9fd",
   "metadata": {},
   "outputs": [
    {
     "data": {
      "text/plain": [
       "Thai    53\n",
       "USA     20\n",
       "dtype: int64"
      ]
     },
     "execution_count": 13,
     "metadata": {},
     "output_type": "execute_result"
    }
   ],
   "source": [
    "pop.loc[['Thai','USA']]"
   ]
  },
  {
   "cell_type": "code",
   "execution_count": 15,
   "id": "4d597c12",
   "metadata": {},
   "outputs": [
    {
     "data": {
      "text/plain": [
       "USA    20\n",
       "dtype: int64"
      ]
     },
     "execution_count": 15,
     "metadata": {},
     "output_type": "execute_result"
    }
   ],
   "source": [
    "pop.iloc[1]"
   ]
  },
  {
   "cell_type": "code",
   "execution_count": 21,
   "id": "8b2a8d57",
   "metadata": {},
   "outputs": [
    {
     "data": {
      "text/plain": [
       "Thai     53\n",
       "Japan    90\n",
       "dtype: int64"
      ]
     },
     "execution_count": 21,
     "metadata": {},
     "output_type": "execute_result"
    }
   ],
   "source": [
    "pop > pop.mean()\n"
   ]
  },
  {
   "cell_type": "code",
   "execution_count": 28,
   "id": "823b5c18",
   "metadata": {},
   "outputs": [
    {
     "data": {
      "text/plain": [
       "USA      20\n",
       "Thai     53\n",
       "Japan    90\n",
       "dtype: int64"
      ]
     },
     "execution_count": 28,
     "metadata": {},
     "output_type": "execute_result"
    }
   ],
   "source": [
    "pop[(pop > pop.mean()) | (pop < 21)]"
   ]
  },
  {
   "cell_type": "markdown",
   "id": "e4fd9d80",
   "metadata": {},
   "source": [
    "# Dataframe"
   ]
  },
  {
   "cell_type": "code",
   "execution_count": 6,
   "id": "011daf82",
   "metadata": {},
   "outputs": [],
   "source": [
    "df = pd.read_csv( \n",
    "    'data/btc-market-price.csv', \n",
    "    header = None, \n",
    "    names = ['date','price'],\n",
    "    index_col = 0,\n",
    "    parse_dates = True, \n",
    "    ) \n"
   ]
  },
  {
   "cell_type": "code",
   "execution_count": null,
   "id": "1edbee52",
   "metadata": {},
   "outputs": [],
   "source": [
    "df = pd.read_csv('data/btc-market-price.csv', header = None)\n",
    "df.columns = ['date','price']"
   ]
  },
  {
   "cell_type": "code",
   "execution_count": null,
   "id": "1cda28be",
   "metadata": {},
   "outputs": [],
   "source": [
    "df.info() ##Dataframe overview\n",
    "df.describe() ##Summary of satistic of Dataframe\n",
    "df.dtypes()\n",
    "df[x,y] ##x = index / y = column\n",
    "df.rename(columns = {'old':'new','old2':'new2'}, index = {'old3','new3'}) ##rename index and columns"
   ]
  },
  {
   "cell_type": "code",
   "execution_count": 38,
   "id": "d674a5f5",
   "metadata": {},
   "outputs": [
    {
     "data": {
      "text/plain": [
       "<bound method NDFrame.head of                        0                   1\n",
       "0                   date               price\n",
       "1    2017-04-02 00:00:00         1099.169125\n",
       "2    2017-04-03 00:00:00            1141.813\n",
       "3    2017-04-04 00:00:00        1141.6003625\n",
       "4    2017-04-05 00:00:00  1133.0793142857142\n",
       "..                   ...                 ...\n",
       "361  2018-03-28 00:00:00             7960.38\n",
       "362  2018-03-29 00:00:00             7172.28\n",
       "363  2018-03-30 00:00:00   6882.531666666667\n",
       "364  2018-03-31 00:00:00             6935.48\n",
       "365  2018-04-01 00:00:00            6794.105\n",
       "\n",
       "[366 rows x 2 columns]>"
      ]
     },
     "execution_count": 38,
     "metadata": {},
     "output_type": "execute_result"
    }
   ],
   "source": [
    "df.head() ##Get head\n",
    "df.tail() ##Get tail"
   ]
  },
  {
   "cell_type": "code",
   "execution_count": 49,
   "id": "01ad97d9",
   "metadata": {},
   "outputs": [],
   "source": [
    "df['date'] =pd.to_datetime(df['date']) ##Change to date type"
   ]
  },
  {
   "cell_type": "code",
   "execution_count": 54,
   "id": "c1546e74",
   "metadata": {},
   "outputs": [
    {
     "ename": "KeyError",
     "evalue": "\"None of ['date'] are in the columns\"",
     "output_type": "error",
     "traceback": [
      "\u001b[1;31m---------------------------------------------------------------------------\u001b[0m",
      "\u001b[1;31mKeyError\u001b[0m                                  Traceback (most recent call last)",
      "\u001b[1;32m~\\AppData\\Local\\Temp/ipykernel_17576/276915350.py\u001b[0m in \u001b[0;36m<module>\u001b[1;34m\u001b[0m\n\u001b[1;32m----> 1\u001b[1;33m \u001b[0mdf\u001b[0m\u001b[1;33m.\u001b[0m\u001b[0mset_index\u001b[0m\u001b[1;33m(\u001b[0m\u001b[1;34m'date'\u001b[0m\u001b[1;33m,\u001b[0m \u001b[0minplace\u001b[0m \u001b[1;33m=\u001b[0m \u001b[1;32mTrue\u001b[0m\u001b[1;33m)\u001b[0m \u001b[1;31m##Replace index with specify column\u001b[0m\u001b[1;33m\u001b[0m\u001b[1;33m\u001b[0m\u001b[0m\n\u001b[0m",
      "\u001b[1;32m~\\Anaconda3\\lib\\site-packages\\pandas\\util\\_decorators.py\u001b[0m in \u001b[0;36mwrapper\u001b[1;34m(*args, **kwargs)\u001b[0m\n\u001b[0;32m    309\u001b[0m                     \u001b[0mstacklevel\u001b[0m\u001b[1;33m=\u001b[0m\u001b[0mstacklevel\u001b[0m\u001b[1;33m,\u001b[0m\u001b[1;33m\u001b[0m\u001b[1;33m\u001b[0m\u001b[0m\n\u001b[0;32m    310\u001b[0m                 )\n\u001b[1;32m--> 311\u001b[1;33m             \u001b[1;32mreturn\u001b[0m \u001b[0mfunc\u001b[0m\u001b[1;33m(\u001b[0m\u001b[1;33m*\u001b[0m\u001b[0margs\u001b[0m\u001b[1;33m,\u001b[0m \u001b[1;33m**\u001b[0m\u001b[0mkwargs\u001b[0m\u001b[1;33m)\u001b[0m\u001b[1;33m\u001b[0m\u001b[1;33m\u001b[0m\u001b[0m\n\u001b[0m\u001b[0;32m    312\u001b[0m \u001b[1;33m\u001b[0m\u001b[0m\n\u001b[0;32m    313\u001b[0m         \u001b[1;32mreturn\u001b[0m \u001b[0mwrapper\u001b[0m\u001b[1;33m\u001b[0m\u001b[1;33m\u001b[0m\u001b[0m\n",
      "\u001b[1;32m~\\Anaconda3\\lib\\site-packages\\pandas\\core\\frame.py\u001b[0m in \u001b[0;36mset_index\u001b[1;34m(self, keys, drop, append, inplace, verify_integrity)\u001b[0m\n\u001b[0;32m   5449\u001b[0m \u001b[1;33m\u001b[0m\u001b[0m\n\u001b[0;32m   5450\u001b[0m         \u001b[1;32mif\u001b[0m \u001b[0mmissing\u001b[0m\u001b[1;33m:\u001b[0m\u001b[1;33m\u001b[0m\u001b[1;33m\u001b[0m\u001b[0m\n\u001b[1;32m-> 5451\u001b[1;33m             \u001b[1;32mraise\u001b[0m \u001b[0mKeyError\u001b[0m\u001b[1;33m(\u001b[0m\u001b[1;34mf\"None of {missing} are in the columns\"\u001b[0m\u001b[1;33m)\u001b[0m\u001b[1;33m\u001b[0m\u001b[1;33m\u001b[0m\u001b[0m\n\u001b[0m\u001b[0;32m   5452\u001b[0m \u001b[1;33m\u001b[0m\u001b[0m\n\u001b[0;32m   5453\u001b[0m         \u001b[1;32mif\u001b[0m \u001b[0minplace\u001b[0m\u001b[1;33m:\u001b[0m\u001b[1;33m\u001b[0m\u001b[1;33m\u001b[0m\u001b[0m\n",
      "\u001b[1;31mKeyError\u001b[0m: \"None of ['date'] are in the columns\""
     ]
    }
   ],
   "source": [
    "df.set_index('date', inplace = True) ##Replace index with specify column"
   ]
  },
  {
   "cell_type": "code",
   "execution_count": 56,
   "id": "c755cae4",
   "metadata": {},
   "outputs": [
    {
     "data": {
      "text/plain": [
       "price    1099.169125\n",
       "Name: 2017-04-02 00:00:00, dtype: float64"
      ]
     },
     "execution_count": 56,
     "metadata": {},
     "output_type": "execute_result"
    }
   ],
   "source": [
    "df.loc['2017-04-02']"
   ]
  },
  {
   "cell_type": "markdown",
   "id": "6345ed97",
   "metadata": {},
   "source": [
    "# Data Cleaning"
   ]
  },
  {
   "cell_type": "code",
   "execution_count": 27,
   "id": "52441ae9",
   "metadata": {},
   "outputs": [
    {
     "ename": "TypeError",
     "evalue": "dropna() got an unexpected keyword argument 'thres'",
     "output_type": "error",
     "traceback": [
      "\u001b[1;31m---------------------------------------------------------------------------\u001b[0m",
      "\u001b[1;31mTypeError\u001b[0m                                 Traceback (most recent call last)",
      "\u001b[1;32m~\\AppData\\Local\\Temp/ipykernel_23016/414119372.py\u001b[0m in \u001b[0;36m<module>\u001b[1;34m\u001b[0m\n\u001b[0;32m      6\u001b[0m \u001b[0ms\u001b[0m\u001b[1;33m.\u001b[0m\u001b[0mdropna\u001b[0m\u001b[1;33m(\u001b[0m\u001b[1;33m)\u001b[0m \u001b[1;31m##Drop na\u001b[0m\u001b[1;33m\u001b[0m\u001b[1;33m\u001b[0m\u001b[0m\n\u001b[0;32m      7\u001b[0m \u001b[0ms\u001b[0m\u001b[1;33m[\u001b[0m\u001b[0ms\u001b[0m\u001b[1;33m.\u001b[0m\u001b[0misnull\u001b[0m\u001b[1;33m(\u001b[0m\u001b[1;33m)\u001b[0m\u001b[1;33m]\u001b[0m \u001b[1;31m##Show row of null value\u001b[0m\u001b[1;33m\u001b[0m\u001b[1;33m\u001b[0m\u001b[0m\n\u001b[1;32m----> 8\u001b[1;33m \u001b[0ms\u001b[0m\u001b[1;33m.\u001b[0m\u001b[0mdropna\u001b[0m\u001b[1;33m(\u001b[0m\u001b[0mthres\u001b[0m\u001b[1;33m=\u001b[0m\u001b[1;36m3\u001b[0m\u001b[1;33m)\u001b[0m \u001b[1;31m##Drop row that 3 column is null\u001b[0m\u001b[1;33m\u001b[0m\u001b[1;33m\u001b[0m\u001b[0m\n\u001b[0m\u001b[0;32m      9\u001b[0m \u001b[1;33m\u001b[0m\u001b[0m\n\u001b[0;32m     10\u001b[0m \u001b[0ms\u001b[0m\u001b[1;33m.\u001b[0m\u001b[0mfillna\u001b[0m\u001b[1;33m(\u001b[0m\u001b[1;36m0\u001b[0m\u001b[1;33m)\u001b[0m\u001b[1;33m\u001b[0m\u001b[1;33m\u001b[0m\u001b[0m\n",
      "\u001b[1;32m~\\Anaconda3\\lib\\site-packages\\pandas\\util\\_decorators.py\u001b[0m in \u001b[0;36mwrapper\u001b[1;34m(*args, **kwargs)\u001b[0m\n\u001b[0;32m    309\u001b[0m                     \u001b[0mstacklevel\u001b[0m\u001b[1;33m=\u001b[0m\u001b[0mstacklevel\u001b[0m\u001b[1;33m,\u001b[0m\u001b[1;33m\u001b[0m\u001b[1;33m\u001b[0m\u001b[0m\n\u001b[0;32m    310\u001b[0m                 )\n\u001b[1;32m--> 311\u001b[1;33m             \u001b[1;32mreturn\u001b[0m \u001b[0mfunc\u001b[0m\u001b[1;33m(\u001b[0m\u001b[1;33m*\u001b[0m\u001b[0margs\u001b[0m\u001b[1;33m,\u001b[0m \u001b[1;33m**\u001b[0m\u001b[0mkwargs\u001b[0m\u001b[1;33m)\u001b[0m\u001b[1;33m\u001b[0m\u001b[1;33m\u001b[0m\u001b[0m\n\u001b[0m\u001b[0;32m    312\u001b[0m \u001b[1;33m\u001b[0m\u001b[0m\n\u001b[0;32m    313\u001b[0m         \u001b[1;32mreturn\u001b[0m \u001b[0mwrapper\u001b[0m\u001b[1;33m\u001b[0m\u001b[1;33m\u001b[0m\u001b[0m\n",
      "\u001b[1;31mTypeError\u001b[0m: dropna() got an unexpected keyword argument 'thres'"
     ]
    }
   ],
   "source": [
    "s = pd.Series([1,np.nan,7,np.nan]) \n",
    "'''Clean missing data'''\n",
    "pd.isnull(s) ##Check null return boolean\n",
    "pd.isnull(s).sum() ##Check amount of na\n",
    "s.isnull() ##Another form\n",
    "s.dropna() ##Drop na\n",
    "s[s.isnull()] ##Show row of null value\n",
    "s.dropna(thres=3) ##Drop row that 3 column is null\n",
    "\n",
    "s.fillna(0) ##fill na with 0\n",
    "s.fillna(method='ffill') ##Forward fill, fill na with the previous row's value\n",
    "s.fillna(method='bfill') ##Backward fill"
   ]
  },
  {
   "cell_type": "code",
   "execution_count": 51,
   "id": "cd906cab",
   "metadata": {},
   "outputs": [],
   "source": [
    "df = pd.DataFrame({\n",
    "    'Sex': ['M', 'F', 'F', 'D', '?'],\n",
    "    'Age': [29, 30, 24, 290, 25],\n",
    "})"
   ]
  },
  {
   "cell_type": "code",
   "execution_count": 37,
   "id": "47354b3d",
   "metadata": {},
   "outputs": [
    {
     "data": {
      "text/html": [
       "<div>\n",
       "<style scoped>\n",
       "    .dataframe tbody tr th:only-of-type {\n",
       "        vertical-align: middle;\n",
       "    }\n",
       "\n",
       "    .dataframe tbody tr th {\n",
       "        vertical-align: top;\n",
       "    }\n",
       "\n",
       "    .dataframe thead th {\n",
       "        text-align: right;\n",
       "    }\n",
       "</style>\n",
       "<table border=\"1\" class=\"dataframe\">\n",
       "  <thead>\n",
       "    <tr style=\"text-align: right;\">\n",
       "      <th></th>\n",
       "      <th>Sex</th>\n",
       "      <th>Age</th>\n",
       "    </tr>\n",
       "  </thead>\n",
       "  <tbody>\n",
       "    <tr>\n",
       "      <th>3</th>\n",
       "      <td>D</td>\n",
       "      <td>290</td>\n",
       "    </tr>\n",
       "  </tbody>\n",
       "</table>\n",
       "</div>"
      ],
      "text/plain": [
       "  Sex  Age\n",
       "3   D  290"
      ]
     },
     "execution_count": 37,
     "metadata": {},
     "output_type": "execute_result"
    }
   ],
   "source": [
    "df['Sex'].unique()\n",
    "df['Sex'].value_counts() ##count unique value\n",
    "df['Sex'].replace({'D':'F','N':'M'}) ###Replace D to F and n to M\n"
   ]
  },
  {
   "cell_type": "code",
   "execution_count": 54,
   "id": "2ef48fc5",
   "metadata": {},
   "outputs": [
    {
     "data": {
      "text/html": [
       "<div>\n",
       "<style scoped>\n",
       "    .dataframe tbody tr th:only-of-type {\n",
       "        vertical-align: middle;\n",
       "    }\n",
       "\n",
       "    .dataframe tbody tr th {\n",
       "        vertical-align: top;\n",
       "    }\n",
       "\n",
       "    .dataframe thead th {\n",
       "        text-align: right;\n",
       "    }\n",
       "</style>\n",
       "<table border=\"1\" class=\"dataframe\">\n",
       "  <thead>\n",
       "    <tr style=\"text-align: right;\">\n",
       "      <th></th>\n",
       "      <th>Sex</th>\n",
       "      <th>Age</th>\n",
       "    </tr>\n",
       "  </thead>\n",
       "  <tbody>\n",
       "    <tr>\n",
       "      <th>0</th>\n",
       "      <td>M</td>\n",
       "      <td>29.0</td>\n",
       "    </tr>\n",
       "    <tr>\n",
       "      <th>1</th>\n",
       "      <td>F</td>\n",
       "      <td>30.0</td>\n",
       "    </tr>\n",
       "    <tr>\n",
       "      <th>2</th>\n",
       "      <td>F</td>\n",
       "      <td>24.0</td>\n",
       "    </tr>\n",
       "    <tr>\n",
       "      <th>3</th>\n",
       "      <td>D</td>\n",
       "      <td>29.0</td>\n",
       "    </tr>\n",
       "    <tr>\n",
       "      <th>4</th>\n",
       "      <td>?</td>\n",
       "      <td>25.0</td>\n",
       "    </tr>\n",
       "  </tbody>\n",
       "</table>\n",
       "</div>"
      ],
      "text/plain": [
       "  Sex   Age\n",
       "0   M  29.0\n",
       "1   F  30.0\n",
       "2   F  24.0\n",
       "3   D  29.0\n",
       "4   ?  25.0"
      ]
     },
     "execution_count": 54,
     "metadata": {},
     "output_type": "execute_result"
    }
   ],
   "source": [
    "df.loc[df['Age'] > 100,'Age'] = df.loc[df['Age'] > 100,'Age'] / 10\n",
    "df"
   ]
  },
  {
   "cell_type": "code",
   "execution_count": 64,
   "id": "cecf123e",
   "metadata": {},
   "outputs": [
    {
     "data": {
      "text/plain": [
       "'Clean duplicate data'"
      ]
     },
     "execution_count": 64,
     "metadata": {},
     "output_type": "execute_result"
    }
   ],
   "source": [
    "'''Clean duplicate data'''\n",
    "df.duplicated() ##Return True for second duplicated value onward (All column)\n",
    "df.duplicated(keep=False) ##Return True every duplicated value (All column)\n",
    "df.duplicated(subset=['Name']) ##Specific column need to be duplciated\n",
    "df.drop_duplicated(keep=False) ##Drop duplicated value with same rule above apply"
   ]
  },
  {
   "cell_type": "markdown",
   "id": "34774b7d",
   "metadata": {},
   "source": [
    "# Visualization"
   ]
  },
  {
   "cell_type": "code",
   "execution_count": 66,
   "id": "7663b008",
   "metadata": {},
   "outputs": [],
   "source": [
    "import matplotlib.pyplot as plt"
   ]
  },
  {
   "cell_type": "code",
   "execution_count": 69,
   "id": "a0ec6362",
   "metadata": {},
   "outputs": [
    {
     "data": {
      "text/plain": [
       "<Figure size 864x432 with 0 Axes>"
      ]
     },
     "execution_count": 69,
     "metadata": {},
     "output_type": "execute_result"
    },
    {
     "data": {
      "text/plain": [
       "<Figure size 864x432 with 0 Axes>"
      ]
     },
     "metadata": {},
     "output_type": "display_data"
    }
   ],
   "source": [
    " "
   ]
  },
  {
   "cell_type": "code",
   "execution_count": null,
   "id": "b4356b14",
   "metadata": {},
   "outputs": [],
   "source": []
  }
 ],
 "metadata": {
  "kernelspec": {
   "display_name": "Python 3 (ipykernel)",
   "language": "python",
   "name": "python3"
  },
  "language_info": {
   "codemirror_mode": {
    "name": "ipython",
    "version": 3
   },
   "file_extension": ".py",
   "mimetype": "text/x-python",
   "name": "python",
   "nbconvert_exporter": "python",
   "pygments_lexer": "ipython3",
   "version": "3.9.7"
  }
 },
 "nbformat": 4,
 "nbformat_minor": 5
}
